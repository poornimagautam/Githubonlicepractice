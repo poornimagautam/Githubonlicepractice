{
 "cells": [
  {
   "cell_type": "code",
   "execution_count": 1,
   "id": "bf14d1ef",
   "metadata": {},
   "outputs": [
    {
     "name": "stdout",
     "output_type": "stream",
     "text": [
      "enter the distance in km20\n",
      "the distance in km is 20\n",
      "the distance in miles is 12.42742\n"
     ]
    }
   ],
   "source": [
    "#QUES 1\n",
    "distance_km=int(input(\"enter the distance in km\"))\n",
    "print(\"the distance in km is\",distance_km)\n",
    "\n",
    "# 1KM = 0.621371 MILES\n",
    "distance_miles= 0.621371 * distance_km\n",
    "print(\"the distance in miles is\",distance_miles)"
   ]
  },
  {
   "cell_type": "code",
   "execution_count": 3,
   "id": "6effec11",
   "metadata": {},
   "outputs": [
    {
     "name": "stdout",
     "output_type": "stream",
     "text": [
      "enter the temp in celsius50\n",
      "the temperature in celsius is 50\n",
      "the temperature in farh is 122.0\n"
     ]
    }
   ],
   "source": [
    "#QUES 2\n",
    "temp_celsius=int(input(\"enter the temp in celsius\"))\n",
    "print(\"the temperature in celsius is\",temp_celsius)\n",
    "temp_farh = (temp_celsius * (9/5)) + 32\n",
    "print(\"the temperature in farh is\",temp_farh)"
   ]
  },
  {
   "cell_type": "code",
   "execution_count": 5,
   "id": "f0daf477",
   "metadata": {},
   "outputs": [
    {
     "name": "stdout",
     "output_type": "stream",
     "text": [
      "     June 2022\n",
      "Mo Tu We Th Fr Sa Su\n",
      "       1  2  3  4  5\n",
      " 6  7  8  9 10 11 12\n",
      "13 14 15 16 17 18 19\n",
      "20 21 22 23 24 25 26\n",
      "27 28 29 30\n",
      "\n"
     ]
    }
   ],
   "source": [
    "#QUES 3\n",
    "#to display calendar you will have to import the calendar module\n",
    "import calendar\n",
    "yy=2022\n",
    "mm=6\n",
    "print(calendar.month(2022,6))"
   ]
  },
  {
   "cell_type": "code",
   "execution_count": 21,
   "id": "5dc54c07",
   "metadata": {},
   "outputs": [
    {
     "name": "stdout",
     "output_type": "stream",
     "text": [
      "enter the first coeff10\n",
      "enter the second coeff5\n",
      "enter the third coeff6\n",
      "the qadratic equation is given by: 10.0 x^2+ 5.0 x+ 6.0\n",
      "the first root of the equation is (-0.24999999999999994+0.733143914930759j)\n",
      "the second root of the equation is (-0.25000000000000006-0.733143914930759j)\n"
     ]
    }
   ],
   "source": [
    "#QUES4\n",
    "a=float(input(\"enter the first coeff\"))\n",
    "b=float(input(\"enter the second coeff\"))\n",
    "c=float(input(\"enter the third coeff\"))\n",
    "print(\"the qadratic equation is given by:\",a,\"x^2+\",b,\"x+\",c)\n",
    "x1= (-b+(b**2-4*a*c)**(1/2))/(2*a)\n",
    "x2= (-b-(b**2-4*a*c)**(1/2))/(2*a)\n",
    "print(\"the first root of the equation is\",x1)\n",
    "print(\"the second root of the equation is\",x2)"
   ]
  },
  {
   "cell_type": "code",
   "execution_count": 22,
   "id": "50933b27",
   "metadata": {},
   "outputs": [
    {
     "name": "stdout",
     "output_type": "stream",
     "text": [
      "enter your first varaible5\n",
      "enter your second variable6\n",
      "first varaible is 5\n",
      "second variable is 6\n",
      "first varaible is 6\n",
      "second variable is 5\n"
     ]
    }
   ],
   "source": [
    "#QUES5\n",
    "var1=input(\"enter your first varaible\")\n",
    "var2=input(\"enter your second variable\")\n",
    "print(\"first varaible is\",var1)\n",
    "print(\"second variable is\",var2)\n",
    "(var1,var2)=(var2,var1)\n",
    "\n",
    "#AFTER SWAPPING\n",
    "print(\"first varaible is\",var1)\n",
    "print(\"second variable is\",var2)"
   ]
  },
  {
   "cell_type": "code",
   "execution_count": null,
   "id": "ebe03d33",
   "metadata": {},
   "outputs": [],
   "source": []
  }
 ],
 "metadata": {
  "kernelspec": {
   "display_name": "Python 3 (ipykernel)",
   "language": "python",
   "name": "python3"
  },
  "language_info": {
   "codemirror_mode": {
    "name": "ipython",
    "version": 3
   },
   "file_extension": ".py",
   "mimetype": "text/x-python",
   "name": "python",
   "nbconvert_exporter": "python",
   "pygments_lexer": "ipython3",
   "version": "3.9.7"
  }
 },
 "nbformat": 4,
 "nbformat_minor": 5
}
