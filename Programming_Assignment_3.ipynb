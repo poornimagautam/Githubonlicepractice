{
 "cells": [
  {
   "cell_type": "code",
   "execution_count": 6,
   "id": "d0066b8c",
   "metadata": {},
   "outputs": [
    {
     "name": "stdout",
     "output_type": "stream",
     "text": [
      "enter the number you want to check-10\n",
      "the number is negative\n"
     ]
    }
   ],
   "source": [
    "#QUES1\n",
    "num_1=float(input(\"enter the number you want to check\"))\n",
    "if num_1>0:\n",
    "    print(\"it is a positive number\")\n",
    "elif num_1==0:\n",
    "    print(\"it is zero\")\n",
    "else:\n",
    "    print(\"the number is negative\")"
   ]
  },
  {
   "cell_type": "code",
   "execution_count": 8,
   "id": "3153b21a",
   "metadata": {},
   "outputs": [
    {
     "name": "stdout",
     "output_type": "stream",
     "text": [
      "enter the number you want to check66\n",
      "the number is even\n"
     ]
    }
   ],
   "source": [
    "#QUES2\n",
    "num_2=int(input(\"enter the number you want to check\"))\n",
    "if num_2%2==0:\n",
    "    print(\"the number is even\")\n",
    "else:\n",
    "    print(\"the number is odd\")"
   ]
  },
  {
   "cell_type": "code",
   "execution_count": 10,
   "id": "440bd100",
   "metadata": {},
   "outputs": [
    {
     "name": "stdout",
     "output_type": "stream",
     "text": [
      "enter the year you want to check as a leap year2020\n",
      "it is a leap year\n"
     ]
    }
   ],
   "source": [
    "#QUES3\n",
    "year=int(input(\"enter the year you want to check as a leap year\"))\n",
    "if year%4==0:\n",
    "    print(\"it is a leap year\")\n",
    "else:\n",
    "    print(\"it is not a leap year\")"
   ]
  },
  {
   "cell_type": "code",
   "execution_count": null,
   "id": "56a78c25",
   "metadata": {},
   "outputs": [],
   "source": [
    "#QUES4\n",
    "#USING FOR LOOP\n",
    "num_3=int(input(\"enter the number you want to check\"))\n",
    "i=2\n",
    "for i in range(2,num_3):\n",
    "        if num_3%i==0:\n",
    "            print(i,\"divides\",num_3)\n",
    "            print(num_3,\"is not a prime number\")\n",
    "            break\n",
    "else:\n",
    "    print(\"it is prime\")\n"
   ]
  },
  {
   "cell_type": "code",
   "execution_count": null,
   "id": "cd581edc",
   "metadata": {},
   "outputs": [],
   "source": [
    "#USING WHILE LOOP\n",
    "num_3=int(input(\"enter the number you want to check\"))\n",
    "i=2\n",
    "while(i<num_3):\n",
    "        if num_3%i==0:\n",
    "            print(i,\"divides\",num_3)\n",
    "            print(num_3,\"is not a prime number\")\n",
    "            break\n",
    "        else:\n",
    "            i+=1\n",
    "else:\n",
    "    print(\"it is prime\")"
   ]
  },
  {
   "cell_type": "code",
   "execution_count": 4,
   "id": "4460e668",
   "metadata": {},
   "outputs": [],
   "source": [
    "#QUES5\n",
    "list_of_prime=[]\n",
    "for i in range(2,10001):\n",
    "    for j in range(2,i):\n",
    "        if i%j==0:\n",
    "            break\n",
    "    else:\n",
    "        list_of_prime.append(i)\n",
    "print(list_of_prime)\n",
    "\n"
   ]
  },
  {
   "cell_type": "code",
   "execution_count": null,
   "id": "0059ae92",
   "metadata": {},
   "outputs": [],
   "source": []
  }
 ],
 "metadata": {
  "kernelspec": {
   "display_name": "Python 3 (ipykernel)",
   "language": "python",
   "name": "python3"
  },
  "language_info": {
   "codemirror_mode": {
    "name": "ipython",
    "version": 3
   },
   "file_extension": ".py",
   "mimetype": "text/x-python",
   "name": "python",
   "nbconvert_exporter": "python",
   "pygments_lexer": "ipython3",
   "version": "3.9.12"
  }
 },
 "nbformat": 4,
 "nbformat_minor": 5
}
