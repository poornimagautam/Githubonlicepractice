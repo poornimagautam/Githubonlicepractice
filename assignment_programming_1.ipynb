{
 "cells": [
  {
   "cell_type": "code",
   "execution_count": 1,
   "id": "cf7f21c4",
   "metadata": {},
   "outputs": [
    {
     "name": "stdout",
     "output_type": "stream",
     "text": [
      "hello python\n"
     ]
    }
   ],
   "source": [
    "#QUES1\n",
    "print(\"hello python\")"
   ]
  },
  {
   "cell_type": "code",
   "execution_count": 2,
   "id": "6eaf6928",
   "metadata": {},
   "outputs": [
    {
     "name": "stdout",
     "output_type": "stream",
     "text": [
      "enter first number10\n",
      "enter second num(ber5\n",
      "the sum of the number is 15.0\n",
      "the division of the number is 2.0\n"
     ]
    }
   ],
   "source": [
    "#QUES2\n",
    "a=float(input(\"enter first number\"))\n",
    "b=float(input(\"enter second number\"))\n",
    "print(\"the sum of the number is\",a+b)\n",
    "print(\"the division of the number is\",a/b)"
   ]
  },
  {
   "cell_type": "code",
   "execution_count": 3,
   "id": "96b1da00",
   "metadata": {},
   "outputs": [
    {
     "name": "stdout",
     "output_type": "stream",
     "text": [
      "enter the height of the triangle12.5\n",
      "enter the base of the triangle11\n",
      "area of traingle is 68.75\n"
     ]
    }
   ],
   "source": [
    "#QUES3\n",
    "height=float(input(\"enter the height of the triangle\"))\n",
    "base=float(input(\"enter the base of the triangle\"))\n",
    "area = (1/2)*base*height\n",
    "print(\"area of traingle is\",area)"
   ]
  },
  {
   "cell_type": "code",
   "execution_count": 6,
   "id": "ac0979ab",
   "metadata": {},
   "outputs": [
    {
     "name": "stdout",
     "output_type": "stream",
     "text": [
      "enter your first varaible10\n",
      "enter your second variable5\n",
      "first varaible is 10\n",
      "second variable is 5\n",
      "first varaible is 5\n",
      "second variable is 10\n"
     ]
    }
   ],
   "source": [
    "#QUES4\n",
    "var1=input(\"enter your first varaible\")\n",
    "var2=input(\"enter your second variable\")\n",
    "print(\"first varaible is\",var1)\n",
    "print(\"second variable is\",var2)\n",
    "(var1,var2)=(var2,var1)\n",
    "\n",
    "#AFTER SWAPPING\n",
    "print(\"first varaible is\",var1)\n",
    "print(\"second variable is\",var2)"
   ]
  },
  {
   "cell_type": "code",
   "execution_count": 10,
   "id": "16249884",
   "metadata": {},
   "outputs": [
    {
     "name": "stdout",
     "output_type": "stream",
     "text": [
      "0.6670693147316712\n"
     ]
    }
   ],
   "source": [
    "#QUES5\n",
    "import random\n",
    "random_number=random.random() #this will give a random number in the interval [0,1)\n",
    "print(random_number)"
   ]
  },
  {
   "cell_type": "code",
   "execution_count": null,
   "id": "2ef96c7e",
   "metadata": {},
   "outputs": [],
   "source": []
  }
 ],
 "metadata": {
  "kernelspec": {
   "display_name": "Python 3 (ipykernel)",
   "language": "python",
   "name": "python3"
  },
  "language_info": {
   "codemirror_mode": {
    "name": "ipython",
    "version": 3
   },
   "file_extension": ".py",
   "mimetype": "text/x-python",
   "name": "python",
   "nbconvert_exporter": "python",
   "pygments_lexer": "ipython3",
   "version": "3.9.7"
  }
 },
 "nbformat": 4,
 "nbformat_minor": 5
}
